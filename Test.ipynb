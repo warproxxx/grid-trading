{
 "cells": [
  {
   "cell_type": "code",
   "execution_count": 7,
   "id": "monthly-senegal",
   "metadata": {},
   "outputs": [],
   "source": [
    "from liveTrader import liveTrading\n",
    "import pandas as pd"
   ]
  },
  {
   "cell_type": "code",
   "execution_count": 2,
   "id": "completed-burst",
   "metadata": {},
   "outputs": [],
   "source": [
    "lt = liveTrading(lev=3)"
   ]
  },
  {
   "cell_type": "code",
   "execution_count": 3,
   "id": "supreme-circle",
   "metadata": {},
   "outputs": [
    {
     "name": "stdout",
     "output_type": "stream",
     "text": [
      "Sending limit buy order for BTC/USD of size 10 @ 62000 on bybit in 2021-11-10 02:23:17.929107\n"
     ]
    }
   ],
   "source": [
    "order = lt.limit_trade('buy', 10, 62000)"
   ]
  },
  {
   "cell_type": "code",
   "execution_count": 4,
   "id": "fatal-favor",
   "metadata": {},
   "outputs": [
    {
     "name": "stdout",
     "output_type": "stream",
     "text": [
      "Sending limit sell order for BTC/USD of size 10 @ 70000 on bybit in 2021-11-10 02:23:23.942003\n"
     ]
    }
   ],
   "source": [
    "order = lt.limit_trade('sell', 10, 70000)"
   ]
  },
  {
   "cell_type": "code",
   "execution_count": 6,
   "id": "reduced-handbook",
   "metadata": {},
   "outputs": [],
   "source": [
    "orders = lt.get_all_orders()"
   ]
  },
  {
   "cell_type": "code",
   "execution_count": 9,
   "id": "buried-movie",
   "metadata": {},
   "outputs": [],
   "source": [
    "orders = pd.DataFrame(orders)"
   ]
  },
  {
   "cell_type": "code",
   "execution_count": 10,
   "id": "powered-bolivia",
   "metadata": {},
   "outputs": [
    {
     "data": {
      "text/html": [
       "<div>\n",
       "<style scoped>\n",
       "    .dataframe tbody tr th:only-of-type {\n",
       "        vertical-align: middle;\n",
       "    }\n",
       "\n",
       "    .dataframe tbody tr th {\n",
       "        vertical-align: top;\n",
       "    }\n",
       "\n",
       "    .dataframe thead th {\n",
       "        text-align: right;\n",
       "    }\n",
       "</style>\n",
       "<table border=\"1\" class=\"dataframe\">\n",
       "  <thead>\n",
       "    <tr style=\"text-align: right;\">\n",
       "      <th></th>\n",
       "      <th>user_id</th>\n",
       "      <th>position_idx</th>\n",
       "      <th>order_status</th>\n",
       "      <th>symbol</th>\n",
       "      <th>side</th>\n",
       "      <th>order_type</th>\n",
       "      <th>price</th>\n",
       "      <th>qty</th>\n",
       "      <th>time_in_force</th>\n",
       "      <th>order_link_id</th>\n",
       "      <th>...</th>\n",
       "      <th>leaves_qty</th>\n",
       "      <th>leaves_value</th>\n",
       "      <th>cum_exec_qty</th>\n",
       "      <th>cum_exec_value</th>\n",
       "      <th>cum_exec_fee</th>\n",
       "      <th>reject_reason</th>\n",
       "      <th>take_profit</th>\n",
       "      <th>stop_loss</th>\n",
       "      <th>tp_trigger_by</th>\n",
       "      <th>sl_trigger_by</th>\n",
       "    </tr>\n",
       "  </thead>\n",
       "  <tbody>\n",
       "    <tr>\n",
       "      <th>0</th>\n",
       "      <td>6581397</td>\n",
       "      <td>0</td>\n",
       "      <td>New</td>\n",
       "      <td>BTCUSD</td>\n",
       "      <td>Sell</td>\n",
       "      <td>Limit</td>\n",
       "      <td>70000</td>\n",
       "      <td>10</td>\n",
       "      <td>PostOnly</td>\n",
       "      <td></td>\n",
       "      <td>...</td>\n",
       "      <td>10</td>\n",
       "      <td>0.00014285</td>\n",
       "      <td>0</td>\n",
       "      <td>0</td>\n",
       "      <td>0</td>\n",
       "      <td>EC_NoError</td>\n",
       "      <td>0.0000</td>\n",
       "      <td>0.0000</td>\n",
       "      <td>UNKNOWN</td>\n",
       "      <td>UNKNOWN</td>\n",
       "    </tr>\n",
       "    <tr>\n",
       "      <th>1</th>\n",
       "      <td>6581397</td>\n",
       "      <td>0</td>\n",
       "      <td>New</td>\n",
       "      <td>BTCUSD</td>\n",
       "      <td>Buy</td>\n",
       "      <td>Limit</td>\n",
       "      <td>62000</td>\n",
       "      <td>10</td>\n",
       "      <td>PostOnly</td>\n",
       "      <td></td>\n",
       "      <td>...</td>\n",
       "      <td>10</td>\n",
       "      <td>0.00016129</td>\n",
       "      <td>0</td>\n",
       "      <td>0</td>\n",
       "      <td>0</td>\n",
       "      <td>EC_NoError</td>\n",
       "      <td>0.0000</td>\n",
       "      <td>0.0000</td>\n",
       "      <td>UNKNOWN</td>\n",
       "      <td>UNKNOWN</td>\n",
       "    </tr>\n",
       "  </tbody>\n",
       "</table>\n",
       "<p>2 rows × 23 columns</p>\n",
       "</div>"
      ],
      "text/plain": [
       "   user_id position_idx order_status  symbol  side order_type  price qty  \\\n",
       "0  6581397            0          New  BTCUSD  Sell      Limit  70000  10   \n",
       "1  6581397            0          New  BTCUSD   Buy      Limit  62000  10   \n",
       "\n",
       "  time_in_force order_link_id  ... leaves_qty leaves_value cum_exec_qty  \\\n",
       "0      PostOnly                ...         10   0.00014285            0   \n",
       "1      PostOnly                ...         10   0.00016129            0   \n",
       "\n",
       "  cum_exec_value cum_exec_fee reject_reason take_profit stop_loss  \\\n",
       "0              0            0    EC_NoError      0.0000    0.0000   \n",
       "1              0            0    EC_NoError      0.0000    0.0000   \n",
       "\n",
       "  tp_trigger_by sl_trigger_by  \n",
       "0       UNKNOWN       UNKNOWN  \n",
       "1       UNKNOWN       UNKNOWN  \n",
       "\n",
       "[2 rows x 23 columns]"
      ]
     },
     "execution_count": 10,
     "metadata": {},
     "output_type": "execute_result"
    }
   ],
   "source": [
    "orders"
   ]
  },
  {
   "cell_type": "code",
   "execution_count": null,
   "id": "black-contents",
   "metadata": {},
   "outputs": [],
   "source": []
  },
  {
   "cell_type": "code",
   "execution_count": 17,
   "id": "boring-china",
   "metadata": {},
   "outputs": [],
   "source": [
    "lt.set_leverage()"
   ]
  },
  {
   "cell_type": "code",
   "execution_count": 5,
   "id": "derived-lobby",
   "metadata": {},
   "outputs": [
    {
     "data": {
      "text/plain": [
       "[]"
      ]
     },
     "execution_count": 5,
     "metadata": {},
     "output_type": "execute_result"
    }
   ],
   "source": [
    "lt.get_partial_orders()"
   ]
  },
  {
   "cell_type": "code",
   "execution_count": 6,
   "id": "thick-tamil",
   "metadata": {},
   "outputs": [],
   "source": [
    "lt.close_all_orders()"
   ]
  },
  {
   "cell_type": "code",
   "execution_count": 7,
   "id": "strong-legend",
   "metadata": {},
   "outputs": [
    {
     "data": {
      "text/plain": [
       "0.00292709"
      ]
     },
     "execution_count": 7,
     "metadata": {},
     "output_type": "execute_result"
    }
   ],
   "source": [
    "lt.get_balance()"
   ]
  },
  {
   "cell_type": "code",
   "execution_count": 8,
   "id": "single-supply",
   "metadata": {},
   "outputs": [
    {
     "data": {
      "text/plain": [
       "('NONE', 0, 0)"
      ]
     },
     "execution_count": 8,
     "metadata": {},
     "output_type": "execute_result"
    }
   ],
   "source": [
    "lt.get_position()"
   ]
  },
  {
   "cell_type": "code",
   "execution_count": 9,
   "id": "arabic-marine",
   "metadata": {},
   "outputs": [
    {
     "name": "stdout",
     "output_type": "stream",
     "text": [
      "Sending limit buy order for BTC/USD of size 10 @ 62000 on bybit in 2021-11-10 00:26:11.630949\n"
     ]
    }
   ],
   "source": [
    "order = lt.limit_trade('buy', 10, 62000)"
   ]
  },
  {
   "cell_type": "code",
   "execution_count": 10,
   "id": "introductory-democracy",
   "metadata": {},
   "outputs": [],
   "source": [
    "orders = lt.get_unfilled_orders()"
   ]
  },
  {
   "cell_type": "code",
   "execution_count": 14,
   "id": "activated-talent",
   "metadata": {},
   "outputs": [],
   "source": [
    "lt.cancel_order(orders[0]['order_id'])"
   ]
  }
 ],
 "metadata": {
  "kernelspec": {
   "display_name": "Python 3.8.2 64-bit",
   "language": "python",
   "name": "python38264bit5e026c37115b47dab948fc9d59355aca"
  },
  "language_info": {
   "codemirror_mode": {
    "name": "ipython",
    "version": 3
   },
   "file_extension": ".py",
   "mimetype": "text/x-python",
   "name": "python",
   "nbconvert_exporter": "python",
   "pygments_lexer": "ipython3",
   "version": "3.8.10"
  }
 },
 "nbformat": 4,
 "nbformat_minor": 5
}
