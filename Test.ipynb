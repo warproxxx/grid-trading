{
 "cells": [
  {
   "cell_type": "code",
   "execution_count": 19,
   "id": "monthly-senegal",
   "metadata": {},
   "outputs": [],
   "source": [
    "from liveTrader import liveTrading\n",
    "import pandas as pd"
   ]
  },
  {
   "cell_type": "code",
   "execution_count": 20,
   "id": "completed-burst",
   "metadata": {},
   "outputs": [],
   "source": [
    "lt = liveTrading(lev=5)"
   ]
  },
  {
   "cell_type": "code",
   "execution_count": 23,
   "id": "middle-surgeon",
   "metadata": {},
   "outputs": [],
   "source": [
    "lt.close_all_orders()"
   ]
  },
  {
   "cell_type": "code",
   "execution_count": null,
   "id": "adapted-dallas",
   "metadata": {},
   "outputs": [],
   "source": []
  },
  {
   "cell_type": "code",
   "execution_count": 14,
   "id": "olive-investment",
   "metadata": {},
   "outputs": [],
   "source": [
    "orders_df = pd.DataFrame(lt.get_all_orders())\n",
    "\n",
    "if len(orders_df) > 0:\n",
    "    orders = orders[['price', 'order_id']].set_index('price').T.to_dict()\n",
    "else:\n",
    "    orders = {}\n"
   ]
  },
  {
   "cell_type": "code",
   "execution_count": 18,
   "id": "upper-worker",
   "metadata": {},
   "outputs": [
    {
     "ename": "AttributeError",
     "evalue": "'dict' object has no attribute 'discard'",
     "output_type": "error",
     "traceback": [
      "\u001b[0;31m---------------------------------------------------------------------------\u001b[0m",
      "\u001b[0;31mAttributeError\u001b[0m                            Traceback (most recent call last)",
      "\u001b[0;32m<ipython-input-18-ba40fe7560cb>\u001b[0m in \u001b[0;36m<module>\u001b[0;34m\u001b[0m\n\u001b[0;32m----> 1\u001b[0;31m \u001b[0morders\u001b[0m\u001b[0;34m.\u001b[0m\u001b[0mdiscard\u001b[0m\u001b[0;34m(\u001b[0m\u001b[0;36m62000\u001b[0m\u001b[0;34m)\u001b[0m\u001b[0;34m\u001b[0m\u001b[0;34m\u001b[0m\u001b[0m\n\u001b[0m",
      "\u001b[0;31mAttributeError\u001b[0m: 'dict' object has no attribute 'discard'"
     ]
    }
   ],
   "source": [
    "del orders[]"
   ]
  },
  {
   "cell_type": "code",
   "execution_count": null,
   "id": "returning-surgery",
   "metadata": {},
   "outputs": [],
   "source": []
  },
  {
   "cell_type": "code",
   "execution_count": 3,
   "id": "periodic-drink",
   "metadata": {},
   "outputs": [
    {
     "name": "stdout",
     "output_type": "stream",
     "text": [
      "Sending limit buy order for BTC/USD of size 10 @ 62000 on bybit in 2021-11-10 02:23:17.929107\n"
     ]
    }
   ],
   "source": [
    "order = lt.limit_trade('buy', 10, 62000)"
   ]
  },
  {
   "cell_type": "code",
   "execution_count": 4,
   "id": "chronic-brooks",
   "metadata": {},
   "outputs": [
    {
     "name": "stdout",
     "output_type": "stream",
     "text": [
      "Sending limit sell order for BTC/USD of size 10 @ 70000 on bybit in 2021-11-10 02:23:23.942003\n"
     ]
    }
   ],
   "source": [
    "order = lt.limit_trade('sell', 10, 70000)"
   ]
  },
  {
   "cell_type": "code",
   "execution_count": 1,
   "id": "adjusted-patent",
   "metadata": {},
   "outputs": [
    {
     "ename": "NameError",
     "evalue": "name 'lt' is not defined",
     "output_type": "error",
     "traceback": [
      "\u001b[0;31m---------------------------------------------------------------------------\u001b[0m",
      "\u001b[0;31mNameError\u001b[0m                                 Traceback (most recent call last)",
      "\u001b[0;32m<ipython-input-1-c410acb5d718>\u001b[0m in \u001b[0;36m<module>\u001b[0;34m\u001b[0m\n\u001b[0;32m----> 1\u001b[0;31m \u001b[0morders\u001b[0m \u001b[0;34m=\u001b[0m \u001b[0mlt\u001b[0m\u001b[0;34m.\u001b[0m\u001b[0mget_all_orders\u001b[0m\u001b[0;34m(\u001b[0m\u001b[0;34m)\u001b[0m\u001b[0;34m\u001b[0m\u001b[0;34m\u001b[0m\u001b[0m\n\u001b[0m",
      "\u001b[0;31mNameError\u001b[0m: name 'lt' is not defined"
     ]
    }
   ],
   "source": [
    "orders = lt.get_all_orders()"
   ]
  },
  {
   "cell_type": "code",
   "execution_count": 9,
   "id": "organic-coaching",
   "metadata": {},
   "outputs": [],
   "source": []
  },
  {
   "cell_type": "code",
   "execution_count": 21,
   "id": "sorted-browse",
   "metadata": {},
   "outputs": [],
   "source": [
    "orders_df = pd.DataFrame(lt.get_all_orders())\n",
    "\n",
    "if len(orders_df) > 0:\n",
    "    orders = pd.DataFrame(orders)\n",
    "else:\n",
    "    orders = {}"
   ]
  },
  {
   "cell_type": "code",
   "execution_count": null,
   "id": "expressed-appointment",
   "metadata": {},
   "outputs": [],
   "source": []
  },
  {
   "cell_type": "code",
   "execution_count": 17,
   "id": "boring-china",
   "metadata": {},
   "outputs": [],
   "source": [
    "lt.set_leverage()"
   ]
  },
  {
   "cell_type": "code",
   "execution_count": 5,
   "id": "derived-lobby",
   "metadata": {},
   "outputs": [
    {
     "data": {
      "text/plain": [
       "[]"
      ]
     },
     "execution_count": 5,
     "metadata": {},
     "output_type": "execute_result"
    }
   ],
   "source": [
    "lt.get_partial_orders()"
   ]
  },
  {
   "cell_type": "code",
   "execution_count": 6,
   "id": "thick-tamil",
   "metadata": {},
   "outputs": [],
   "source": []
  },
  {
   "cell_type": "code",
   "execution_count": 7,
   "id": "strong-legend",
   "metadata": {},
   "outputs": [
    {
     "data": {
      "text/plain": [
       "0.00292709"
      ]
     },
     "execution_count": 7,
     "metadata": {},
     "output_type": "execute_result"
    }
   ],
   "source": [
    "lt.get_balance()"
   ]
  },
  {
   "cell_type": "code",
   "execution_count": 8,
   "id": "single-supply",
   "metadata": {},
   "outputs": [
    {
     "data": {
      "text/plain": [
       "('NONE', 0, 0)"
      ]
     },
     "execution_count": 8,
     "metadata": {},
     "output_type": "execute_result"
    }
   ],
   "source": [
    "lt.get_position()"
   ]
  },
  {
   "cell_type": "code",
   "execution_count": 9,
   "id": "arabic-marine",
   "metadata": {},
   "outputs": [
    {
     "name": "stdout",
     "output_type": "stream",
     "text": [
      "Sending limit buy order for BTC/USD of size 10 @ 62000 on bybit in 2021-11-10 00:26:11.630949\n"
     ]
    }
   ],
   "source": [
    "order = lt.limit_trade('buy', 10, 62000)"
   ]
  },
  {
   "cell_type": "code",
   "execution_count": 10,
   "id": "introductory-democracy",
   "metadata": {},
   "outputs": [],
   "source": [
    "orders = lt.get_unfilled_orders()"
   ]
  },
  {
   "cell_type": "code",
   "execution_count": 14,
   "id": "activated-talent",
   "metadata": {},
   "outputs": [],
   "source": [
    "lt.cancel_order(orders[0]['order_id'])"
   ]
  }
 ],
 "metadata": {
  "kernelspec": {
   "display_name": "Python 3.8.2 64-bit",
   "language": "python",
   "name": "python38264bit5e026c37115b47dab948fc9d59355aca"
  },
  "language_info": {
   "codemirror_mode": {
    "name": "ipython",
    "version": 3
   },
   "file_extension": ".py",
   "mimetype": "text/x-python",
   "name": "python",
   "nbconvert_exporter": "python",
   "pygments_lexer": "ipython3",
   "version": "3.8.10"
  }
 },
 "nbformat": 4,
 "nbformat_minor": 5
}
